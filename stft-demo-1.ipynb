{
 "cells": [
  {
   "cell_type": "code",
   "execution_count": null,
   "id": "a0581947",
   "metadata": {},
   "outputs": [],
   "source": [
    "from scipy.io import wavfile\n",
    "# Originally downloaded from https://archive.org/details/The_Speeches-8291\n",
    "sampleRate, signal = wavfile.read('MLK-intro.wav')\n",
    "print(sampleRate)\n",
    "print(signal.shape)"
   ]
  },
  {
   "cell_type": "code",
   "execution_count": null,
   "id": "bd85f7f6",
   "metadata": {},
   "outputs": [],
   "source": [
    "import IPython\n",
    "IPython.display.Audio(signal.T, rate=sampleRate) # T is transpose"
   ]
  },
  {
   "cell_type": "code",
   "execution_count": null,
   "id": "3ce809b0",
   "metadata": {},
   "outputs": [],
   "source": [
    "import matplotlib.pyplot as plt\n",
    "import numpy as np\n",
    "fig, axs = plt.subplots(2)\n",
    "fig.suptitle(\"Left and right channel, x-axis is time\") # sup not sub\n",
    "t = np.linspace(0,signal.shape[0]/sampleRate,signal.shape[0])\n",
    "axs[0].plot(t,signal.T[0])\n",
    "axs[1].plot(t,signal.T[1])\n",
    "fig, axs = plt.subplots(2)\n",
    "fig.suptitle(\"Left and right channel, x-axis is array-index\") \n",
    "axs[0].plot(signal.T[0])\n",
    "axs[1].plot(signal.T[1])"
   ]
  },
  {
   "cell_type": "code",
   "execution_count": null,
   "id": "fee7fb91",
   "metadata": {},
   "outputs": [],
   "source": [
    "signal = (signal.T[0] + signal.T[1])/2 # collapse the two channels"
   ]
  },
  {
   "cell_type": "code",
   "execution_count": null,
   "id": "78a6a3cd",
   "metadata": {},
   "outputs": [],
   "source": [
    "from scipy.signal import stft\n",
    "f, t, Zxx = stft(signal, fs=sampleRate, nfft=sampleRate, nperseg=700)\n",
    "# Documentation at https://docs.scipy.org/doc/scipy/reference/generated/scipy.signal.stft.html"
   ]
  },
  {
   "cell_type": "code",
   "execution_count": null,
   "id": "0e8e339e",
   "metadata": {},
   "outputs": [],
   "source": [
    "print(type(f), type(t), type(Zxx))"
   ]
  },
  {
   "cell_type": "code",
   "execution_count": null,
   "id": "f8523b70",
   "metadata": {},
   "outputs": [],
   "source": [
    "print(f.shape, t.shape, Zxx.shape)"
   ]
  },
  {
   "cell_type": "code",
   "execution_count": null,
   "id": "93b6b071",
   "metadata": {},
   "outputs": [],
   "source": [
    "print(f[:10])"
   ]
  },
  {
   "cell_type": "code",
   "execution_count": null,
   "id": "64cd14b8",
   "metadata": {},
   "outputs": [],
   "source": [
    "print(t[:10])"
   ]
  },
  {
   "cell_type": "code",
   "execution_count": null,
   "id": "a301a37c",
   "metadata": {},
   "outputs": [],
   "source": [
    "plt.plot(f[100:3300], np.abs(Zxx[100:3300,300]))\n",
    "plt.show()"
   ]
  },
  {
   "cell_type": "code",
   "execution_count": null,
   "id": "9b201b58",
   "metadata": {},
   "outputs": [],
   "source": [
    "plt.plot(f[100:3300], np.abs(Zxx[100:3300,301]))\n",
    "plt.plot(f[100:3300], np.abs(Zxx[100:3300,302]))\n",
    "plt.show()"
   ]
  },
  {
   "cell_type": "code",
   "execution_count": null,
   "id": "ecd7ee7e",
   "metadata": {},
   "outputs": [],
   "source": [
    "plt.figure(figsize=(8,10))\n",
    "plt.pcolormesh(t, f, np.abs(Zxx), shading='gouraud')\n",
    "plt.ylabel('Frequency [Hz]')\n",
    "plt.xlabel('Time [sec]')"
   ]
  },
  {
   "cell_type": "code",
   "execution_count": null,
   "id": "f3eaca4c",
   "metadata": {},
   "outputs": [],
   "source": [
    "import scipy.signal\n",
    "inv_t, inv_x = scipy.signal.istft(Zxx, fs=sampleRate, nperseg=700)"
   ]
  },
  {
   "cell_type": "code",
   "execution_count": null,
   "id": "372ea1df",
   "metadata": {},
   "outputs": [],
   "source": [
    "print(inv_x)"
   ]
  },
  {
   "cell_type": "code",
   "execution_count": null,
   "id": "49650e70",
   "metadata": {},
   "outputs": [],
   "source": [
    "IPython.display.Audio(inv_x, rate=sampleRate)"
   ]
  }
 ],
 "metadata": {
  "kernelspec": {
   "display_name": "Python 3",
   "language": "python",
   "name": "python3"
  },
  "language_info": {
   "codemirror_mode": {
    "name": "ipython",
    "version": 3
   },
   "file_extension": ".py",
   "mimetype": "text/x-python",
   "name": "python",
   "nbconvert_exporter": "python",
   "pygments_lexer": "ipython3",
   "version": "3.6.9"
  }
 },
 "nbformat": 4,
 "nbformat_minor": 5
}
