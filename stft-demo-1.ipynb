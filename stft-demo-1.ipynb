{
 "cells": [
  {
   "cell_type": "code",
   "execution_count": null,
   "metadata": {},
   "outputs": [],
   "source": [
    "from scipy.io import wavfile\n",
    "# Originally downloaded from https://archive.org/details/The_Speeches-8291\n",
    "sampleRate, signal = wavfile.read('MLK-intro.wav')\n",
    "print(sampleRate)\n",
    "print(signal.shape)\n",
    "print(type(signal))"
   ]
  },
  {
   "cell_type": "code",
   "execution_count": null,
   "metadata": {},
   "outputs": [],
   "source": [
    "import IPython\n",
    "IPython.display.Audio(signal.T, rate=sampleRate) # T is transpose"
   ]
  },
  {
   "cell_type": "code",
   "execution_count": null,
   "metadata": {},
   "outputs": [],
   "source": [
    "import matplotlib.pyplot as plt\n",
    "import numpy as np\n",
    "fig, axs = plt.subplots(2)\n",
    "fig.suptitle(\"Left and right channel, x-axis is time\") # sup not sub\n",
    "t = np.linspace(0,signal.shape[0]/sampleRate,signal.shape[0])\n",
    "axs[0].plot(t,signal.T[0])\n",
    "axs[1].plot(t,signal.T[1])"
   ]
  },
  {
   "cell_type": "code",
   "execution_count": null,
   "metadata": {},
   "outputs": [],
   "source": [
    "signal = (signal.T[0] + signal.T[1])/2 # collapse the two channels"
   ]
  },
  {
   "cell_type": "code",
   "execution_count": null,
   "metadata": {},
   "outputs": [],
   "source": [
    "from scipy.signal import stft\n",
    "f, t, Zxx = stft(signal, window='hann', fs=sampleRate, nfft=sampleRate/3, nperseg=500)\n",
    "# Documentation at https://docs.scipy.org/doc/scipy/reference/generated/scipy.signal.stft.html"
   ]
  },
  {
   "cell_type": "code",
   "execution_count": null,
   "metadata": {},
   "outputs": [],
   "source": [
    "print(type(f), type(t), type(Zxx))"
   ]
  },
  {
   "cell_type": "code",
   "execution_count": null,
   "metadata": {},
   "outputs": [],
   "source": [
    "print(f.shape, t.shape, Zxx.shape); \n",
    "print(\"Expected freqs.\",44100/3/2); print(\"Expected times\",700*500/2-500); print(\"Input size\",signal.shape)"
   ]
  },
  {
   "cell_type": "code",
   "execution_count": null,
   "metadata": {},
   "outputs": [],
   "source": [
    "print(f[:10],f[:-10])"
   ]
  },
  {
   "cell_type": "code",
   "execution_count": null,
   "metadata": {},
   "outputs": [],
   "source": [
    "print(t[:10]); print(t[-10:]); print(3.968/700)"
   ]
  },
  {
   "cell_type": "code",
   "execution_count": null,
   "metadata": {},
   "outputs": [],
   "source": [
    "print(t[250], Zxx[100:105,250])\n",
    "plt.plot(f[10:2000], np.abs(Zxx[10:2000,250]))\n",
    "plt.show()"
   ]
  },
  {
   "cell_type": "code",
   "execution_count": null,
   "metadata": {},
   "outputs": [],
   "source": [
    "plt.plot(f[10:1000], np.abs(Zxx[10:1000,251]))\n",
    "plt.plot(f[10:1000], np.abs(Zxx[10:1000,252]))\n",
    "plt.show()"
   ]
  },
  {
   "cell_type": "code",
   "execution_count": null,
   "metadata": {},
   "outputs": [],
   "source": [
    "plt.figure(figsize=(8,10))\n",
    "plt.pcolormesh(t, f, np.abs(Zxx), shading='gouraud')\n",
    "plt.ylabel('Frequency [Hz]')\n",
    "plt.xlabel('Time [sec]')\n",
    "plt.show()"
   ]
  },
  {
   "cell_type": "code",
   "execution_count": null,
   "metadata": {},
   "outputs": [],
   "source": [
    "import scipy.signal\n",
    "inv_t, inv_x = scipy.signal.istft(Zxx, window='hann', fs=sampleRate/3, nperseg=500)"
   ]
  },
  {
   "cell_type": "code",
   "execution_count": null,
   "metadata": {},
   "outputs": [],
   "source": [
    "print(inv_x)\n",
    "print(inv_x.shape)"
   ]
  },
  {
   "cell_type": "code",
   "execution_count": null,
   "metadata": {},
   "outputs": [],
   "source": [
    "IPython.display.Audio(inv_x, rate=sampleRate)"
   ]
  }
 ],
 "metadata": {
  "kernelspec": {
   "display_name": "Python 3",
   "language": "python",
   "name": "python3"
  },
  "language_info": {
   "codemirror_mode": {
    "name": "ipython",
    "version": 3
   },
   "file_extension": ".py",
   "mimetype": "text/x-python",
   "name": "python",
   "nbconvert_exporter": "python",
   "pygments_lexer": "ipython3",
   "version": "3.6.9"
  }
 },
 "nbformat": 4,
 "nbformat_minor": 5
}
