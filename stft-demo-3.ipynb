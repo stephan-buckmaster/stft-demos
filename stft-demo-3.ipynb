{
 "cells": [
  {
   "cell_type": "code",
   "execution_count": null,
   "metadata": {},
   "outputs": [],
   "source": [
    "import matplotlib.pyplot as plt\n",
    "from scipy.io import wavfile\n",
    "import numpy as np"
   ]
  },
  {
   "cell_type": "code",
   "execution_count": null,
   "metadata": {},
   "outputs": [],
   "source": [
    "sampleRate = 40000\n",
    "numSeconds = 1\n",
    "times = np.linspace(0, numSeconds, sampleRate * numSeconds)\n",
    "def freq(t,f):\n",
    "        return f + 50*t\n",
    "    \n",
    "def first_note(t):\n",
    "    return 1.2*np.sin(2 * freq(t, 400) * np.pi * t) + np.sin(2 * freq(t,800) * np.pi * t)\n",
    "\n",
    "def second_note(t):\n",
    "    return 1.2*np.sin(2 * freq(t, 600) * np.pi * t) + np.sin(2 * freq(t,1200) * np.pi * t)\n",
    "\n",
    "y = [first_note(t) if t<0.5 else second_note(t) for t in times]"
   ]
  },
  {
   "cell_type": "code",
   "execution_count": null,
   "metadata": {},
   "outputs": [],
   "source": [
    "print(len(y))\n",
    "plt.plot(y)"
   ]
  },
  {
   "cell_type": "code",
   "execution_count": null,
   "metadata": {},
   "outputs": [],
   "source": [
    "plt.plot(y[:1000]) # also plt.plot(y[-1000:])"
   ]
  },
  {
   "cell_type": "code",
   "execution_count": null,
   "metadata": {},
   "outputs": [],
   "source": [
    "import IPython\n",
    "IPython.display.Audio(np.tile(npy, 3), rate=sampleRate) # click once, hear it 3 times"
   ]
  },
  {
   "cell_type": "code",
   "execution_count": null,
   "metadata": {},
   "outputs": [],
   "source": [
    "from scipy.fft import fft\n",
    "f = 2 / sampleRate * fft(y)\n",
    "print(f.shape)\n",
    "plt.plot(np.abs(f[100:3400]))"
   ]
  },
  {
   "cell_type": "code",
   "execution_count": null,
   "metadata": {},
   "outputs": [],
   "source": [
    "from scipy.signal import stft\n",
    "\n",
    "f, t, Zxx = stft(y, fs=sampleRate, nfft=sampleRate, nperseg=1000)\n",
    "# Documentation at https://docs.scipy.org/doc/scipy/reference/generated/scipy.signal.stft.html\n",
    "print(type(f), type(t), type(Zxx))\n",
    "print(f.shape, t.shape, Zxx.shape)\n",
    "print(t[:10])\n",
    "print(times[:10])"
   ]
  },
  {
   "cell_type": "code",
   "execution_count": null,
   "metadata": {},
   "outputs": [],
   "source": [
    "print(Zxx[:,1])\n",
    "print(len(Zxx[:,1]))\n",
    "plt.plot(f[200:3200], np.abs(Zxx[200:3200,1]))"
   ]
  },
  {
   "cell_type": "code",
   "execution_count": null,
   "metadata": {},
   "outputs": [],
   "source": [
    "print(Zxx[:,0])\n",
    "print(t[40])\n",
    "plt.plot(f[200:3000], np.abs(Zxx[200:3000,39]))"
   ]
  },
  {
   "cell_type": "code",
   "execution_count": null,
   "metadata": {},
   "outputs": [],
   "source": [
    "for x in range(1, 80, 10):\n",
    "        plt.plot(f[200:3200], np.abs(Zxx[200:3200, x]))"
   ]
  },
  {
   "cell_type": "code",
   "execution_count": null,
   "metadata": {},
   "outputs": [],
   "source": [
    "import scipy.signal\n",
    "peaks = [scipy.signal.find_peaks(np.abs(Zxx[200:3200, x]), prominence=0.2) for x in range(1,80)]\n",
    "# Documentation at https://docs.scipy.org/doc/scipy/reference/generated/scipy.signal.find_peaks.html\n",
    "print(len(peaks))\n",
    "print(peaks[0])"
   ]
  },
  {
   "cell_type": "code",
   "execution_count": null,
   "metadata": {},
   "outputs": [],
   "source": [
    "peak_seqs = [x[0] for x in peaks]\n",
    "print([len(p) for p in peak_seqs])\n",
    "plt.plot([p[0] for p in peak_seqs])"
   ]
  }
 ],
 "metadata": {
  "kernelspec": {
   "display_name": "Python 3",
   "language": "python",
   "name": "python3"
  },
  "language_info": {
   "codemirror_mode": {
    "name": "ipython",
    "version": 3
   },
   "file_extension": ".py",
   "mimetype": "text/x-python",
   "name": "python",
   "nbconvert_exporter": "python",
   "pygments_lexer": "ipython3",
   "version": "3.6.9"
  }
 },
 "nbformat": 4,
 "nbformat_minor": 5
}
