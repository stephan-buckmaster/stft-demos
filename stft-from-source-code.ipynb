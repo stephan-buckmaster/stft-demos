{
 "cells": [
  {
   "cell_type": "code",
   "execution_count": null,
   "id": "31d6e862",
   "metadata": {},
   "outputs": [],
   "source": [
    "# From _spectral_py.py around line 720, commit 672619a  of branch main / https://github.com/scipy/scipy.git\n",
    "# https://github.com/scipy/scipy/blob/8fa4dcae4553fa873c5553e018f80a8a6f5e9948/scipy/signal/_spectral_py.py#L699\n",
    "\n",
    "import numpy as np\n",
    "import matplotlib.pyplot as plt\n",
    "from scipy import signal\n",
    "\n",
    "rng = np.random.default_rng()\n",
    "fs = 10e3\n",
    "N = 1e5\n",
    "amp = 2 * np.sqrt(2)\n",
    "noise_power = 0.01 * fs / 2\n",
    "time = np.arange(N) / float(fs)\n",
    "mod = 500*np.cos(2*np.pi*0.25*time)\n",
    "carrier = amp * np.sin(2*np.pi*3e3*time + mod)\n",
    "noise = rng.normal(scale=np.sqrt(noise_power), size=time.shape)\n",
    "noise *= np.exp(-time/5)\n",
    "x = carrier + noise\n",
    "\n",
    "f, t, Sxx = signal.spectrogram(x, fs)\n",
    "plt.pcolormesh(t, f, Sxx, shading='gouraud')\n",
    "plt.ylabel('Frequency [Hz]')\n",
    "plt.xlabel('Time [sec]')\n",
    "plt.show()"
   ]
  },
  {
   "cell_type": "code",
   "execution_count": null,
   "id": "2a441397",
   "metadata": {},
   "outputs": [],
   "source": []
  }
 ],
 "metadata": {
  "kernelspec": {
   "display_name": "Python 3",
   "language": "python",
   "name": "python3"
  },
  "language_info": {
   "codemirror_mode": {
    "name": "ipython",
    "version": 3
   },
   "file_extension": ".py",
   "mimetype": "text/x-python",
   "name": "python",
   "nbconvert_exporter": "python",
   "pygments_lexer": "ipython3",
   "version": "3.6.9"
  }
 },
 "nbformat": 4,
 "nbformat_minor": 5
}
