{
 "cells": [
  {
   "cell_type": "code",
   "execution_count": null,
   "metadata": {},
   "outputs": [],
   "source": [
    "import matplotlib.pyplot as plt\n",
    "from scipy.io import wavfile\n",
    "import numpy as np"
   ]
  },
  {
   "cell_type": "code",
   "execution_count": null,
   "metadata": {},
   "outputs": [],
   "source": [
    "sampleRate = 10000\n",
    "numSeconds = 1\n",
    "times = np.linspace(0, numSeconds, sampleRate * numSeconds)\n",
    "def freq(t):\n",
    "        return 440 + 50*t\n",
    "signal = [np.sin(2 * freq(x) * np.pi * x) for x in times]\n",
    "# signal = np.append([np.sin(2 * 440 * np.pi * t) for t in times], signal ) # check the signal begins at 440 Hz\n",
    "# signal = np.append(signal, [np.sin(2 * 540 * np.pi * t) for t in times] ) # check the signal ends at 500 Hz"
   ]
  },
  {
   "cell_type": "code",
   "execution_count": null,
   "metadata": {},
   "outputs": [],
   "source": [
    "print(len(signal))\n",
    "plt.plot(signal)"
   ]
  },
  {
   "cell_type": "code",
   "execution_count": null,
   "metadata": {},
   "outputs": [],
   "source": [
    "plt.plot(signal[:300]) # also plt.plot(y[-300:])"
   ]
  },
  {
   "cell_type": "code",
   "execution_count": null,
   "metadata": {},
   "outputs": [],
   "source": [
    "import IPython\n",
    "IPython.display.Audio(np.tile(signal, 3), rate=sampleRate) # click once, hear it 3 times"
   ]
  },
  {
   "cell_type": "code",
   "execution_count": null,
   "metadata": {},
   "outputs": [],
   "source": [
    "from scipy.fft import fft\n",
    "f = 2 / sampleRate * fft(signal)\n",
    "print(f.shape)\n",
    "plt.plot(np.abs(f[400:600]))"
   ]
  },
  {
   "cell_type": "code",
   "execution_count": null,
   "metadata": {},
   "outputs": [],
   "source": [
    "from scipy.signal import stft\n",
    "f, t, Zxx = stft(signal, fs=sampleRate, nfft=sampleRate, nperseg=1000)\n",
    "# Documentation at https://docs.scipy.org/doc/scipy/reference/generated/scipy.signal.stft.html\n",
    "print(type(f), type(t), type(Zxx))\n",
    "print(sampleRate)\n",
    "print(f.shape, t.shape, Zxx.shape)"
   ]
  },
  {
   "cell_type": "code",
   "execution_count": null,
   "metadata": {},
   "outputs": [],
   "source": [
    "print(Zxx[:,1])\n",
    "print(len(Zxx[:,1]))\n",
    "plt.plot(f[400:600], np.abs(Zxx[400:600,1]))"
   ]
  },
  {
   "cell_type": "code",
   "execution_count": null,
   "metadata": {},
   "outputs": [],
   "source": [
    "print(Zxx[:,0])\n",
    "print(len(Zxx[:,10]))\n",
    "plt.plot(f[400:600], np.abs(Zxx[400:600,10]))"
   ]
  },
  {
   "cell_type": "code",
   "execution_count": null,
   "metadata": {},
   "outputs": [],
   "source": [
    "print(Zxx[:,0])\n",
    "T=20\n",
    "print(len(Zxx[:,T]))\n",
    "plt.plot(f[400:600], np.abs(Zxx[400:600,T]))"
   ]
  },
  {
   "cell_type": "code",
   "execution_count": null,
   "metadata": {},
   "outputs": [],
   "source": [
    "for x in range(1, 20, 2):\n",
    "        plt.plot(f[400:600], np.abs(Zxx[400:600, x]))"
   ]
  }
 ],
 "metadata": {
  "kernelspec": {
   "display_name": "Python 3",
   "language": "python",
   "name": "python3"
  },
  "language_info": {
   "codemirror_mode": {
    "name": "ipython",
    "version": 3
   },
   "file_extension": ".py",
   "mimetype": "text/x-python",
   "name": "python",
   "nbconvert_exporter": "python",
   "pygments_lexer": "ipython3",
   "version": "3.6.9"
  }
 },
 "nbformat": 4,
 "nbformat_minor": 5
}
