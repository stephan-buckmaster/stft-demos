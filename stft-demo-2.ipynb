{
 "cells": [
  {
   "cell_type": "code",
   "execution_count": null,
   "id": "1fe618e9",
   "metadata": {},
   "outputs": [],
   "source": [
    "import matplotlib.pyplot as plt\n",
    "from scipy.io import wavfile\n",
    "import numpy as np"
   ]
  },
  {
   "cell_type": "code",
   "execution_count": null,
   "id": "a9e267a0",
   "metadata": {},
   "outputs": [],
   "source": [
    "sampleRate = 40000\n",
    "numSeconds = 1\n",
    "times = np.linspace(0, numSeconds, sampleRate * numSeconds)\n",
    "def omega(t):\n",
    "        return 400 + 50*t\n",
    "y = [np.sin(2 * omega(t) * np.pi * t) for t in times]"
   ]
  },
  {
   "cell_type": "code",
   "execution_count": null,
   "id": "0cfb3313",
   "metadata": {},
   "outputs": [],
   "source": [
    "print(len(y))\n",
    "plt.plot(y)"
   ]
  },
  {
   "cell_type": "code",
   "execution_count": null,
   "id": "37dba8ba",
   "metadata": {},
   "outputs": [],
   "source": [
    "plt.plot(y[:1000]) # also plt.plot(y[-1000:])"
   ]
  },
  {
   "cell_type": "code",
   "execution_count": null,
   "id": "6571dee6",
   "metadata": {},
   "outputs": [],
   "source": [
    "import IPython\n",
    "npy = 235 * np.array(y) # a volume adjustment\n",
    "IPython.display.Audio(np.tile(npy, 5), rate=sampleRate) # click once, hear it 5 times"
   ]
  },
  {
   "cell_type": "code",
   "execution_count": null,
   "id": "ec9ce891",
   "metadata": {},
   "outputs": [],
   "source": [
    "from scipy.fft import fft\n",
    "f = 2 / sampleRate * fft(y)\n",
    "print(f.shape)\n",
    "plt.plot(np.abs(f[200:600]))"
   ]
  },
  {
   "cell_type": "code",
   "execution_count": null,
   "id": "10391075",
   "metadata": {},
   "outputs": [],
   "source": [
    "from scipy.signal import stft\n",
    "f, t, Zxx = stft(y, fs=sampleRate, nfft=sampleRate, nperseg=1000)\n",
    "# Documentation at https://docs.scipy.org/doc/scipy/reference/generated/scipy.signal.stft.html\n",
    "print(type(f), type(t), type(Zxx))\n",
    "print(sampleRate)\n",
    "print(f.shape, t.shape, Zxx.shape)"
   ]
  },
  {
   "cell_type": "code",
   "execution_count": null,
   "id": "f2caa738",
   "metadata": {},
   "outputs": [],
   "source": [
    "print(t[:10], len(t))\n",
    "print(times[:10], times[-10:], len(times))\n",
    "print(40000 / 81 * times[1])"
   ]
  },
  {
   "cell_type": "code",
   "execution_count": null,
   "id": "8d776df7",
   "metadata": {},
   "outputs": [],
   "source": [
    "print(f[:10]); print(f[-10:])"
   ]
  },
  {
   "cell_type": "code",
   "execution_count": null,
   "id": "6fb5aafa",
   "metadata": {},
   "outputs": [],
   "source": [
    "print(Zxx[:,1])\n",
    "print(len(Zxx[:,1]))\n",
    "plt.plot(f[200:700], np.abs(Zxx[200:700,1]))"
   ]
  },
  {
   "cell_type": "code",
   "execution_count": null,
   "id": "f15709af",
   "metadata": {},
   "outputs": [],
   "source": [
    "print(Zxx[:,0])\n",
    "print(len(Zxx[:,40]))\n",
    "plt.plot(f[200:700], np.abs(Zxx[200:700,40]))"
   ]
  },
  {
   "cell_type": "code",
   "execution_count": null,
   "id": "b44c429f",
   "metadata": {},
   "outputs": [],
   "source": [
    "print(Zxx[:,0])\n",
    "print(len(Zxx[:,79]))\n",
    "plt.plot(f[200:700], np.abs(Zxx[200:700,79]))"
   ]
  },
  {
   "cell_type": "code",
   "execution_count": null,
   "id": "1b10d083",
   "metadata": {},
   "outputs": [],
   "source": [
    "for x in range(1, 80, 10):\n",
    "        plt.plot(f[200:700], np.abs(Zxx[200:700, x]))"
   ]
  }
 ],
 "metadata": {
  "kernelspec": {
   "display_name": "Python 3",
   "language": "python",
   "name": "python3"
  },
  "language_info": {
   "codemirror_mode": {
    "name": "ipython",
    "version": 3
   },
   "file_extension": ".py",
   "mimetype": "text/x-python",
   "name": "python",
   "nbconvert_exporter": "python",
   "pygments_lexer": "ipython3",
   "version": "3.6.9"
  }
 },
 "nbformat": 4,
 "nbformat_minor": 5
}
